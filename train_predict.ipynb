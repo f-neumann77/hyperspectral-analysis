{
 "cells": [
  {
   "cell_type": "code",
   "execution_count": 2,
   "id": "1b2845e0",
   "metadata": {},
   "outputs": [],
   "source": [
    "from scripts.utils import get_device\n",
    "from scripts.train_model import train_model\n",
    "from scripts.test_model import test_model\n",
    "from scripts.utils import convert_to_color_\n",
    "\n",
    "import numpy as np\n",
    "import seaborn as sns\n",
    "from matplotlib import pyplot as plt\n",
    "from sklearn.metrics import classification_report as score\n",
    "from scipy.io import loadmat\n",
    "\n",
    "import torch"
   ]
  },
  {
   "cell_type": "markdown",
   "id": "4c7c2572",
   "metadata": {},
   "source": [
    "## Проверяем доступность GPU для вычислений"
   ]
  },
  {
   "cell_type": "code",
   "execution_count": 3,
   "id": "7bf635a6",
   "metadata": {},
   "outputs": [
    {
     "data": {
      "text/plain": [
       "True"
      ]
     },
     "execution_count": 3,
     "metadata": {},
     "output_type": "execute_result"
    }
   ],
   "source": [
    "torch.cuda.is_available()"
   ]
  },
  {
   "cell_type": "markdown",
   "id": "811b6408",
   "metadata": {},
   "source": [
    "## Задаем параметры запуска\n"
   ]
  },
  {
   "cell_type": "code",
   "execution_count": 4,
   "id": "07fef4f9",
   "metadata": {},
   "outputs": [
    {
     "name": "stdout",
     "output_type": "stream",
     "text": [
      "Computation on CUDA GPU device 0\n"
     ]
    }
   ],
   "source": [
    "DATASET_PATH: str = 'data/med/' # путь до папки с данными\n",
    "IMG_NAME: str = 'iz3kubov.mat' # название .mat файла с гиперспектральным изображением (ключ по умолчанию 'image')\n",
    "GT_NAME: str = 'iz3kubov_gt.mat' # название .mat файла с маской (ключ по умолчанию 'img')\n",
    "WEIGHTS_PATH: str = 'checkpoints/short_he/he/2022_05_05_14_04_27_epoch15_0.96.pth' # путь до файла с весами (опционально)\n",
    "SAMPLE_PERCENTAGE: float = 0.1 # размер тренировочной выборки из куба\n",
    "CUDA_DEVICE = get_device(0) # подключение к доступному GPU, иначе подключается CPU"
   ]
  },
  {
   "cell_type": "markdown",
   "id": "d20a9a4a",
   "metadata": {},
   "source": [
    "## Задаем гиперпараметры для сети"
   ]
  },
  {
   "cell_type": "code",
   "execution_count": 5,
   "id": "04489e83",
   "metadata": {},
   "outputs": [],
   "source": [
    "# Указываем количество эпох, классов и устройство для вычисления\n",
    "hyperparams = {\n",
    "        'epoch': 5,\n",
    "        'device': CUDA_DEVICE\n",
    "    }"
   ]
  },
  {
   "cell_type": "markdown",
   "id": "d93f1c92",
   "metadata": {},
   "source": [
    "## Вызов обучения сети"
   ]
  },
  {
   "cell_type": "code",
   "execution_count": 6,
   "id": "dc0272ab",
   "metadata": {
    "scrolled": false
   },
   "outputs": [
    {
     "ename": "KeyError",
     "evalue": "'labels'",
     "output_type": "error",
     "traceback": [
      "\u001b[1;31m---------------------------------------------------------------------------\u001b[0m",
      "\u001b[1;31mKeyError\u001b[0m                                  Traceback (most recent call last)",
      "\u001b[1;32m~\\AppData\\Local\\Temp/ipykernel_11992/2887176328.py\u001b[0m in \u001b[0;36m<module>\u001b[1;34m\u001b[0m\n\u001b[1;32m----> 1\u001b[1;33m train_model(dataset_path=DATASET_PATH,\n\u001b[0m\u001b[0;32m      2\u001b[0m                 \u001b[0mimg_name\u001b[0m\u001b[1;33m=\u001b[0m\u001b[0mIMG_NAME\u001b[0m\u001b[1;33m,\u001b[0m\u001b[1;33m\u001b[0m\u001b[1;33m\u001b[0m\u001b[0m\n\u001b[0;32m      3\u001b[0m                 \u001b[0mgt_name\u001b[0m\u001b[1;33m=\u001b[0m\u001b[0mGT_NAME\u001b[0m\u001b[1;33m,\u001b[0m\u001b[1;33m\u001b[0m\u001b[1;33m\u001b[0m\u001b[0m\n\u001b[0;32m      4\u001b[0m                 \u001b[0msample_percentage\u001b[0m\u001b[1;33m=\u001b[0m\u001b[0mSAMPLE_PERCENTAGE\u001b[0m\u001b[1;33m,\u001b[0m\u001b[1;33m\u001b[0m\u001b[1;33m\u001b[0m\u001b[0m\n\u001b[0;32m      5\u001b[0m                 hyperparams=hyperparams)\n",
      "\u001b[1;32m~\\PycharmProjects\\hyperspectral-analysis\\scripts\\train_model.py\u001b[0m in \u001b[0;36mtrain_model\u001b[1;34m(dataset_path, img_name, gt_name, hyperparams, sample_percentage, weights_path)\u001b[0m\n\u001b[0;32m     24\u001b[0m                 weights_path=None):\n\u001b[0;32m     25\u001b[0m \u001b[1;33m\u001b[0m\u001b[0m\n\u001b[1;32m---> 26\u001b[1;33m     \u001b[0mimg\u001b[0m\u001b[1;33m,\u001b[0m \u001b[0mgt\u001b[0m\u001b[1;33m,\u001b[0m \u001b[0mIGNORED_LABELS\u001b[0m\u001b[1;33m,\u001b[0m \u001b[0mLABEL_VALUES\u001b[0m\u001b[1;33m,\u001b[0m \u001b[0mpalette\u001b[0m \u001b[1;33m=\u001b[0m \u001b[0mget_dataset\u001b[0m\u001b[1;33m(\u001b[0m\u001b[0mdataset_path\u001b[0m\u001b[1;33m,\u001b[0m \u001b[0mimg_name\u001b[0m\u001b[1;33m,\u001b[0m \u001b[0mgt_name\u001b[0m\u001b[1;33m)\u001b[0m\u001b[1;33m\u001b[0m\u001b[1;33m\u001b[0m\u001b[0m\n\u001b[0m\u001b[0;32m     27\u001b[0m \u001b[1;33m\u001b[0m\u001b[0m\n\u001b[0;32m     28\u001b[0m     \u001b[0mhyperparams\u001b[0m\u001b[1;33m[\u001b[0m\u001b[1;34m'patch_size'\u001b[0m\u001b[1;33m]\u001b[0m \u001b[1;33m=\u001b[0m \u001b[1;36m7\u001b[0m\u001b[1;33m\u001b[0m\u001b[1;33m\u001b[0m\u001b[0m\n",
      "\u001b[1;32m~\\PycharmProjects\\hyperspectral-analysis\\scripts\\dataset.py\u001b[0m in \u001b[0;36mget_dataset\u001b[1;34m(dataset_path, img_name, gt_name)\u001b[0m\n\u001b[0;32m     29\u001b[0m \u001b[1;33m\u001b[0m\u001b[0m\n\u001b[0;32m     30\u001b[0m     \u001b[0mimg\u001b[0m \u001b[1;33m=\u001b[0m \u001b[0mio\u001b[0m\u001b[1;33m.\u001b[0m\u001b[0mloadmat\u001b[0m\u001b[1;33m(\u001b[0m\u001b[1;34mf'{dataset_path}/{img_name}'\u001b[0m\u001b[1;33m)\u001b[0m\u001b[1;33m[\u001b[0m\u001b[1;34m'image'\u001b[0m\u001b[1;33m]\u001b[0m\u001b[1;33m\u001b[0m\u001b[1;33m\u001b[0m\u001b[0m\n\u001b[1;32m---> 31\u001b[1;33m     \u001b[0mlabel_values\u001b[0m \u001b[1;33m=\u001b[0m \u001b[0mio\u001b[0m\u001b[1;33m.\u001b[0m\u001b[0mloadmat\u001b[0m\u001b[1;33m(\u001b[0m\u001b[1;34mf'{dataset_path}/{img_name}'\u001b[0m\u001b[1;33m)\u001b[0m\u001b[1;33m[\u001b[0m\u001b[1;34m'labels'\u001b[0m\u001b[1;33m]\u001b[0m\u001b[1;33m\u001b[0m\u001b[1;33m\u001b[0m\u001b[0m\n\u001b[0m\u001b[0;32m     32\u001b[0m \u001b[1;33m\u001b[0m\u001b[0m\n\u001b[0;32m     33\u001b[0m     \u001b[1;32mif\u001b[0m \u001b[0mgt_name\u001b[0m\u001b[1;33m:\u001b[0m\u001b[1;33m\u001b[0m\u001b[1;33m\u001b[0m\u001b[0m\n",
      "\u001b[1;31mKeyError\u001b[0m: 'labels'"
     ]
    }
   ],
   "source": [
    "train_model(dataset_path=DATASET_PATH,\n",
    "                img_name=IMG_NAME,\n",
    "                gt_name=GT_NAME,\n",
    "                sample_percentage=SAMPLE_PERCENTAGE,\n",
    "                hyperparams=hyperparams)"
   ]
  },
  {
   "cell_type": "markdown",
   "id": "0a20b752",
   "metadata": {},
   "source": [
    "## Вызов предсказания сети"
   ]
  },
  {
   "cell_type": "code",
   "execution_count": null,
   "id": "1a83bec2",
   "metadata": {},
   "outputs": [],
   "source": [
    "gt, predict, predict_color = test_model(dataset_path=DATASET_PATH,\n",
    "                                img_name=IMG_NAME,\n",
    "                                gt_name=GT_NAME,\n",
    "                                hyperparams=hyperparams,\n",
    "                                weights_path=WEIGHTS_PATH\n",
    "                            )"
   ]
  },
  {
   "cell_type": "markdown",
   "id": "9c051754",
   "metadata": {},
   "source": [
    "### Задаем палитру для отрисовки результатов предсказания"
   ]
  },
  {
   "cell_type": "code",
   "execution_count": null,
   "id": "e0e2f767",
   "metadata": {},
   "outputs": [],
   "source": [
    "palette = {0: (0, 0, 0)}\n",
    "for k, color in enumerate(sns.color_palette(\"hls\", len(LABEL_VALUES) - 1)):\n",
    "    palette[k + 1] = tuple(np.asarray(255 * np.array(color), dtype=\"uint8\"))"
   ]
  },
  {
   "cell_type": "markdown",
   "id": "3a481167",
   "metadata": {},
   "source": [
    "### Отрисовываем результаты"
   ]
  },
  {
   "cell_type": "code",
   "execution_count": null,
   "id": "471c39ec",
   "metadata": {},
   "outputs": [],
   "source": [
    "plt.figure(figsize=(5,5))\n",
    "plt.imshow(convert_to_color_(gt, palette=palette))\n",
    "\n",
    "plt.figure(figsize=(5,5))\n",
    "plt.imshow(predict_color)\n",
    "\n",
    "img = loadmat(f'{DATASET_PATH}/{IMG_NAME}')['image']\n",
    "plt.figure(figsize=(5,5))\n",
    "plt.imshow(img[:,:,100])"
   ]
  },
  {
   "cell_type": "code",
   "execution_count": null,
   "id": "8d8c618d",
   "metadata": {},
   "outputs": [],
   "source": [
    "np.unique(predict)"
   ]
  },
  {
   "cell_type": "markdown",
   "id": "c85b9731",
   "metadata": {},
   "source": [
    "### Смотрим метрики"
   ]
  },
  {
   "cell_type": "code",
   "execution_count": null,
   "id": "59494de9",
   "metadata": {},
   "outputs": [],
   "source": [
    "print(score(gt.flatten(), predict.flatten()))"
   ]
  },
  {
   "cell_type": "code",
   "execution_count": null,
   "id": "0ce6adf7",
   "metadata": {},
   "outputs": [],
   "source": []
  }
 ],
 "metadata": {
  "kernelspec": {
   "display_name": "Python 3 (ipykernel)",
   "language": "python",
   "name": "python3"
  },
  "language_info": {
   "codemirror_mode": {
    "name": "ipython",
    "version": 3
   },
   "file_extension": ".py",
   "mimetype": "text/x-python",
   "name": "python",
   "nbconvert_exporter": "python",
   "pygments_lexer": "ipython3",
   "version": "3.9.6"
  }
 },
 "nbformat": 4,
 "nbformat_minor": 5
}
